{
 "cells": [
  {
   "cell_type": "code",
   "execution_count": 102,
   "id": "curious-morris",
   "metadata": {},
   "outputs": [],
   "source": [
    "%matplotlib inline\n",
    "\n",
    "from matplotlib import pyplot as plt\n",
    "from ipywidgets import interactive, HBox, VBox, Layout\n",
    "import numpy as np"
   ]
  },
  {
   "cell_type": "code",
   "execution_count": 70,
   "id": "revolutionary-mississippi",
   "metadata": {},
   "outputs": [],
   "source": [
    "consulta = 25\n",
    "pacientes = 30 * 4  # al mes\n",
    "gastos   = 300 # luz, internet?, agua, limpieza?\n",
    "obra     = 32_000\n",
    "precio_compra = 76_000\n",
    "porcentaje_alquiler = 0.90\n",
    "mensualidad = 450"
   ]
  },
  {
   "cell_type": "code",
   "execution_count": 35,
   "id": "played-closer",
   "metadata": {},
   "outputs": [],
   "source": [
    "obra = 35_000\n",
    "aire = 4_000\n",
    "camilla = 2_500\n",
    "\n",
    "deposito = 0\n",
    "\n",
    "vicen = 28000\n",
    "yas = 5_000\n",
    "yas_mes = 1000\n",
    "vicen_mes = 2000 "
   ]
  },
  {
   "cell_type": "code",
   "execution_count": 145,
   "id": "numeric-module",
   "metadata": {},
   "outputs": [
    {
     "data": {
      "application/vnd.jupyter.widget-view+json": {
       "model_id": "242f901dda2f45e48652c409b1b48302",
       "version_major": 2,
       "version_minor": 0
      },
      "text/plain": [
       "VBox(children=(HBox(children=(IntSlider(value=35000, description='capital', max=40000, min=30000), IntSlider(v…"
      ]
     },
     "metadata": {},
     "output_type": "display_data"
    }
   ],
   "source": [
    "capital = 35_000\n",
    "por_pagar = precio_compra\n",
    "alexis = 0\n",
    "\n",
    "def f(capital, mes_pago=36, obra=32000, pagos_extras=2000, aire_etc=4000, gastos=300, \n",
    "      pacientes=30, consulta=30, sueldo=1500, devolucion=200):\n",
    "    fig = plt.figure(2, figsize=(12, 5.5))\n",
    "    axe = plt.subplot()\n",
    "    global por_pagar\n",
    "    por_pagar = precio_compra\n",
    "    y = []\n",
    "    y2 = []\n",
    "    for month in range(5 * 12):\n",
    "#         if month <= 23:\n",
    "#             capital += 2000\n",
    "#         else:\n",
    "#             capital += 500\n",
    "        capital -= devolucion\n",
    "        if month <= 4:\n",
    "            capital += pacientes * 4 * 20\n",
    "            capital -= sueldo\n",
    "            if month == 4:\n",
    "                plt.text(2, -7000, 'casa\\nVicen', ha='center')\n",
    "                plt.plot([0, 4], [-8000, -8000], lw=5, color='tab:orange')\n",
    "        if month > 4:\n",
    "            capital += pacientes * 4 * consulta\n",
    "            capital -= gastos\n",
    "            capital -= sueldo\n",
    "            if month == 5:\n",
    "                plt.text(20, -7000, 'en el bajo: descuentas gastos pero ya no cobras 20 euros', ha='center')\n",
    "                plt.plot([4, 5*12], [-8000, -8000], lw=5, color='tab:green')\n",
    "        if month == 1:\n",
    "            capital -= pagos_extras\n",
    "            plt.text(month, 50_000, 'Extras', rotation=90)\n",
    "            plt.plot([month, month], [capital, 50_000], color='tab:grey')\n",
    "        if month == 2:\n",
    "            capital -= obra\n",
    "            plt.text(month, 50_000, 'obra', rotation=90)\n",
    "            plt.plot([month, month], [capital, 50_000], color='tab:grey')\n",
    "        if month == 4:\n",
    "            capital -= aire_etc\n",
    "            plt.text(month, 50_000, 'aire', rotation=90)\n",
    "            plt.plot([month, month], [capital, 50_000], color='tab:grey')\n",
    "        if month == mes_pago:\n",
    "            capital -= por_pagar\n",
    "            plt.text(month, 50_000, 'bajo', rotation=90)\n",
    "            plt.plot([month, month], [capital, 50_000], color='tab:grey')\n",
    "        por_pagar -= mensualidad\n",
    "        y.append(capital)\n",
    "        y2.append(alexis)\n",
    "    x = range(5 * 12)\n",
    "    \n",
    "    y = np.array(y)\n",
    "    y2 = np.array(y2)\n",
    "\n",
    "    plt.fill_between(x, y, where=y>0, interpolate=True, color='tab:blue')\n",
    "    plt.fill_between(x, y, where=y<0, interpolate=True, color='tab:red')\n",
    "#     plt.fill_between(x, y2 + y, y2=y)\n",
    "    \n",
    "    plt.xticks(range(4, 5 * 12 + 4, 12), [2022 + i for i in range(0, 5)])\n",
    "    plt.ylabel('diners')\n",
    "    axe.set_xticks(range(5 * 12), minor=True)\n",
    "    plt.grid()\n",
    "    plt.grid(which='minor', alpha=0.2)\n",
    "    plt.ylim(-10_000, 60_000)\n",
    "    plt.show()\n",
    "\n",
    "interactive_plot = interactive(f, capital=(30_000, 40_000), obra=(30_000, 40_000), gastos=(200, 400),\n",
    "                              pacientes=(20, 40), consulta=(20, 40), sueldo=(1000, 2000), pagos_extras=(500, 5000),\n",
    "                              mes_pago=(36, 48), aire_etc=(3000, 10000), devolucion=(100, 1000))\n",
    "\n",
    "controls = HBox(interactive_plot.children[:-1], layout = Layout(flex_flow='row wrap'))\n",
    "\n",
    "output = interactive_plot.children[-1]\n",
    "\n",
    "output.layout.height = '350px'\n",
    "display(VBox([controls, output]))\n",
    "interactive_plot.update()"
   ]
  },
  {
   "cell_type": "code",
   "execution_count": null,
   "id": "liked-soccer",
   "metadata": {},
   "outputs": [],
   "source": []
  },
  {
   "cell_type": "code",
   "execution_count": null,
   "id": "closed-ferry",
   "metadata": {},
   "outputs": [],
   "source": []
  }
 ],
 "metadata": {
  "kernelspec": {
   "display_name": "Python 3",
   "language": "python",
   "name": "python3"
  },
  "language_info": {
   "codemirror_mode": {
    "name": "ipython",
    "version": 3
   },
   "file_extension": ".py",
   "mimetype": "text/x-python",
   "name": "python",
   "nbconvert_exporter": "python",
   "pygments_lexer": "ipython3",
   "version": "3.8.5"
  },
  "toc": {
   "base_numbering": 1,
   "nav_menu": {},
   "number_sections": true,
   "sideBar": true,
   "skip_h1_title": false,
   "title_cell": "Table of Contents",
   "title_sidebar": "Contents",
   "toc_cell": false,
   "toc_position": {},
   "toc_section_display": true,
   "toc_window_display": false
  }
 },
 "nbformat": 4,
 "nbformat_minor": 5
}
